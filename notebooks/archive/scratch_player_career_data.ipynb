{
 "cells": [
  {
   "cell_type": "code",
   "execution_count": 22,
   "metadata": {},
   "outputs": [
    {
     "name": "stderr",
     "output_type": "stream",
     "text": [
      "/Users/greg.bolla/.local/share/virtualenvs/nfl-stat-scraper-Jt7XuzPt/lib/python3.6/site-packages/IPython/core/interactiveshell.py:2785: DtypeWarning: Columns (34) have mixed types. Specify dtype option on import or set low_memory=False.\n",
      "  interactivity=interactivity, compiler=compiler, result=result)\n"
     ]
    },
    {
     "data": {
      "text/html": [
       "<div>\n",
       "<style scoped>\n",
       "    .dataframe tbody tr th:only-of-type {\n",
       "        vertical-align: middle;\n",
       "    }\n",
       "\n",
       "    .dataframe tbody tr th {\n",
       "        vertical-align: top;\n",
       "    }\n",
       "\n",
       "    .dataframe thead th {\n",
       "        text-align: right;\n",
       "    }\n",
       "</style>\n",
       "<table border=\"1\" class=\"dataframe\">\n",
       "  <thead>\n",
       "    <tr style=\"text-align: right;\">\n",
       "      <th></th>\n",
       "      <th>player_link</th>\n",
       "      <th>player_name</th>\n",
       "    </tr>\n",
       "  </thead>\n",
       "  <tbody>\n",
       "    <tr>\n",
       "      <th>0</th>\n",
       "      <td>/players/F/FreeDo20.htm</td>\n",
       "      <td>Doug Free</td>\n",
       "    </tr>\n",
       "    <tr>\n",
       "      <th>1</th>\n",
       "      <td>/players/L/LiviNa20.htm</td>\n",
       "      <td>Nate Livings</td>\n",
       "    </tr>\n",
       "    <tr>\n",
       "      <th>2</th>\n",
       "      <td>/players/B/BernMa20.htm</td>\n",
       "      <td>Mackenzy Bernadeau</td>\n",
       "    </tr>\n",
       "    <tr>\n",
       "      <th>3</th>\n",
       "      <td>/players/S/SmitTy00.htm</td>\n",
       "      <td>Tyron Smith</td>\n",
       "    </tr>\n",
       "    <tr>\n",
       "      <th>4</th>\n",
       "      <td>/players/R/RomoTo00.htm</td>\n",
       "      <td>Tony Romo</td>\n",
       "    </tr>\n",
       "  </tbody>\n",
       "</table>\n",
       "</div>"
      ],
      "text/plain": [
       "               player_link         player_name\n",
       "0  /players/F/FreeDo20.htm           Doug Free\n",
       "1  /players/L/LiviNa20.htm        Nate Livings\n",
       "2  /players/B/BernMa20.htm  Mackenzy Bernadeau\n",
       "3  /players/S/SmitTy00.htm         Tyron Smith\n",
       "4  /players/R/RomoTo00.htm           Tony Romo"
      ]
     },
     "execution_count": 22,
     "metadata": {},
     "output_type": "execute_result"
    }
   ],
   "source": [
    "import pandas as pd\n",
    "import os \n",
    "\n",
    "player_filename = 'game_summary_by_player.csv'\n",
    "player_dir = os.getcwd().replace('/notebooks', '') + '/data/external'\n",
    "player_path = os.path.join(player_dir, player_filename)\n",
    "\n",
    "player_game_df = pd.read_csv(player_path)\n",
    "players_df = player_game_df[[\"player_link\", \"player_name\"]].drop_duplicates()\n",
    "players_df.head()"
   ]
  },
  {
   "cell_type": "code",
   "execution_count": 51,
   "metadata": {},
   "outputs": [],
   "source": [
    "from bs4 import BeautifulSoup, NavigableString\n",
    "import requests\n",
    "import re\n",
    "import time\n",
    "\n",
    "def get_html(url):\n",
    "    wait_time = 1\n",
    "    html = requests.get(url).content.decode(\"utf-8\") \n",
    "    soup = BeautifulSoup(re.sub(\"<!--|-->\",\"\", html), \"lxml\")  \n",
    "    time.sleep(wait_time)\n",
    "    \n",
    "    return soup"
   ]
  },
  {
   "cell_type": "code",
   "execution_count": 91,
   "metadata": {},
   "outputs": [
    {
     "name": "stdout",
     "output_type": "stream",
     "text": [
      "1982-03-16 00:00:00\n"
     ]
    }
   ],
   "source": [
    "from datetime import datetime\n",
    "base_url = 'https://www.pro-football-reference.com'\n",
    "\n",
    "player_url = '/players/L/LiviNa20.htm'\n",
    "url = \"{}{}\".format(base_url, player_url)\n",
    "player_soup = get_html(url)\n",
    "\n",
    "player_dict = {}\n",
    "birthdate_string = player_soup.find(\"span\", {\"itemprop\":\"birthDate\"})['data-birth']\n",
    "birthdate = datetime.strptime(birthdate_string, '%Y-%m-%d')\n",
    "player_dict['birthdate'] = birthdate\n",
    "print(birthdate)\n"
   ]
  },
  {
   "cell_type": "code",
   "execution_count": 33,
   "metadata": {},
   "outputs": [
    {
     "name": "stdout",
     "output_type": "stream",
     "text": [
      "<tr><th class=\"left \" data-stat=\"year_id\" scope=\"row\"><a href=\"/draft/2003-combine.htm\">2003</a></th><td class=\"left \" data-stat=\"pos\">QB</td><td class=\"right \" data-stat=\"height\">74</td><td class=\"right \" data-stat=\"weight\">230</td><td class=\"right \" data-stat=\"forty_yd\">5.01</td><td class=\"right \" data-stat=\"bench_reps\">0</td><td class=\"right \" data-stat=\"broad_jump\">105</td><td class=\"right \" data-stat=\"shuttle\">4.20</td><td class=\"right \" data-stat=\"cone\">7.11</td><td class=\"right \" data-stat=\"vertical\">30.0</td></tr>\n",
      "2003 74 230 5.01 0 105 4.20 7.11 30.0\n"
     ]
    }
   ],
   "source": [
    "combine_tbl = player_soup.find(\"table\", {\"id\": \"combine\"})\n",
    "combine_row = combine_tbl.tbody.tr\n",
    "print(combine_row)\n",
    "\n",
    "combine_yr = combine_row.find(\"th\", {\"data-stat\" : \"year_id\"}).a.string\n",
    "combine_height = combine_row.find(\"td\", {\"data-stat\" : \"height\"}).string\n",
    "combine_weight = combine_row.find(\"td\", {\"data-stat\" : \"weight\"}).string\n",
    "combine_forty = combine_row.find(\"td\", {\"data-stat\" : \"forty_yd\"}).string\n",
    "combine_bench = combine_row.find(\"td\", {\"data-stat\" : \"bench_reps\"}).string\n",
    "combine_broad_jump = combine_row.find(\"td\", {\"data-stat\" : \"broad_jump\"}).string\n",
    "combine_shuttle = combine_row.find(\"td\", {\"data-stat\" : \"shuttle\"}).string\n",
    "combine_cone = combine_row.find(\"td\", {\"data-stat\" : \"cone\"}).string\n",
    "combine_vert = combine_row.find(\"td\", {\"data-stat\" : \"vertical\"}).string\n",
    "\n",
    "print(combine_yr, combine_height, combine_weight, combine_forty, combine_bench, \\\n",
    "      combine_broad_jump, combine_shuttle, combine_cone, combine_vert)"
   ]
  },
  {
   "cell_type": "code",
   "execution_count": 92,
   "metadata": {},
   "outputs": [
    {
     "ename": "AttributeError",
     "evalue": "'NoneType' object has no attribute 'parent'",
     "output_type": "error",
     "traceback": [
      "\u001b[0;31m---------------------------------------------------------------------------\u001b[0m",
      "\u001b[0;31mAttributeError\u001b[0m                            Traceback (most recent call last)",
      "\u001b[0;32m<ipython-input-92-274137b4bb7f>\u001b[0m in \u001b[0;36m<module>\u001b[0;34m()\u001b[0m\n\u001b[1;32m      2\u001b[0m \u001b[0;34m\u001b[0m\u001b[0m\n\u001b[1;32m      3\u001b[0m \u001b[0mdraft_pattern\u001b[0m \u001b[0;34m=\u001b[0m \u001b[0mre\u001b[0m\u001b[0;34m.\u001b[0m\u001b[0mcompile\u001b[0m\u001b[0;34m(\u001b[0m\u001b[0;34mr'Draft'\u001b[0m\u001b[0;34m)\u001b[0m\u001b[0;34m\u001b[0m\u001b[0m\n\u001b[0;32m----> 4\u001b[0;31m \u001b[0mdraft_tag\u001b[0m \u001b[0;34m=\u001b[0m \u001b[0mplayer_meta\u001b[0m\u001b[0;34m.\u001b[0m\u001b[0mfind\u001b[0m\u001b[0;34m(\u001b[0m\u001b[0;34m'strong'\u001b[0m\u001b[0;34m,\u001b[0m \u001b[0mtext\u001b[0m\u001b[0;34m=\u001b[0m\u001b[0mdraft_pattern\u001b[0m\u001b[0;34m)\u001b[0m\u001b[0;34m.\u001b[0m\u001b[0mparent\u001b[0m\u001b[0;34m\u001b[0m\u001b[0m\n\u001b[0m\u001b[1;32m      5\u001b[0m \u001b[0;34m\u001b[0m\u001b[0m\n\u001b[1;32m      6\u001b[0m \u001b[0;32mfor\u001b[0m \u001b[0mchild\u001b[0m \u001b[0;32min\u001b[0m \u001b[0mdraft_tag\u001b[0m\u001b[0;34m.\u001b[0m\u001b[0mchildren\u001b[0m\u001b[0;34m:\u001b[0m\u001b[0;34m\u001b[0m\u001b[0m\n",
      "\u001b[0;31mAttributeError\u001b[0m: 'NoneType' object has no attribute 'parent'"
     ]
    }
   ],
   "source": [
    "player_meta = player_soup.find(\"div\", {\"itemtype\" : \"https://schema.org/Person\"})\n",
    "\n",
    "draft_pattern = re.compile(r'Draft')\n",
    "player_meta.find('strong', text=draft_pattern)\n",
    "draft_tag = player_meta.find('strong', text=draft_pattern).parent\n",
    "\n",
    "for child in draft_tag.children:\n",
    "\n",
    "    # check to see if child is a string, and check to see if there are parentheses within that string\n",
    "    if isinstance(child, NavigableString) and re.search(r'\\((.*?)\\)',child) is not None:\n",
    "        \n",
    "        re_draft_pick = re.search(r'\\((.*?)\\)',child)            \n",
    "        draft_pick_string = re_draft_pick.group(1)\n",
    "\n",
    "        # in the string that specifies draft pick, grab the number before ordinal string\n",
    "        draft_pick = re.search(r'.+?(?=[st|nd|rd|th])', draft_pick_string).group(0)\n",
    "        draft_pick = int(draft_pick)\n",
    "        print(draft_pick)\n"
   ]
  },
  {
   "cell_type": "code",
   "execution_count": 90,
   "metadata": {},
   "outputs": [
    {
     "name": "stdout",
     "output_type": "stream",
     "text": [
      "G\n"
     ]
    }
   ],
   "source": [
    "pattern = re.compile(r'Position')\n",
    "tag = player_meta.find('strong', text=pattern).parent\n",
    "\n",
    "for child in tag:\n",
    "    if isinstance(child, NavigableString) and \":\" in child:\n",
    "        position = child.split(\":\")[-1].strip()"
   ]
  },
  {
   "cell_type": "code",
   "execution_count": null,
   "metadata": {},
   "outputs": [],
   "source": []
  }
 ],
 "metadata": {
  "kernelspec": {
   "display_name": "Python 3",
   "language": "python",
   "name": "python3"
  },
  "language_info": {
   "codemirror_mode": {
    "name": "ipython",
    "version": 3
   },
   "file_extension": ".py",
   "mimetype": "text/x-python",
   "name": "python",
   "nbconvert_exporter": "python",
   "pygments_lexer": "ipython3",
   "version": "3.6.5"
  }
 },
 "nbformat": 4,
 "nbformat_minor": 2
}
